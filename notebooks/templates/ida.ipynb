{
 "cells": [
  {
   "cell_type": "markdown",
   "id": "91fa6df2-48b8-493c-894d-fca47de9cab6",
   "metadata": {},
   "source": [
    "# Initial Data Analysis\n",
    "\n",
    "---\n",
    "\n",
    "This notebook presents the Initial Data Analysis of the following dataset:"
   ]
  },
  {
   "cell_type": "code",
   "execution_count": null,
   "id": "4508c46d-e17c-4425-bd8e-cd1c171137b2",
   "metadata": {},
   "outputs": [],
   "source": [
    "import os\n",
    "DATASET = os.environ.get(\"DATASET\")\n",
    "DATASET"
   ]
  },
  {
   "cell_type": "markdown",
   "id": "a17e50f8-7376-4d40-9a7b-187deb142855",
   "metadata": {},
   "source": [
    "### Imports"
   ]
  },
  {
   "cell_type": "code",
   "execution_count": null,
   "id": "c50f2952-9f2b-4510-93be-f5356f152e8c",
   "metadata": {},
   "outputs": [],
   "source": [
    "import os\n",
    "\n",
    "import numpy as np\n",
    "import scipy as sp\n",
    "import pandas as pd\n",
    "import matplotlib.pyplot as plt\n",
    "import seaborn as sns"
   ]
  },
  {
   "cell_type": "code",
   "execution_count": null,
   "id": "4ff3adc1-1376-444a-a1a5-67a4456f0880",
   "metadata": {},
   "outputs": [],
   "source": [
    "%matplotlib inline"
   ]
  },
  {
   "cell_type": "code",
   "execution_count": null,
   "id": "a99ac2ea-31e8-44f7-a81e-7b438f114229",
   "metadata": {},
   "outputs": [],
   "source": [
    "os.chdir('/code')"
   ]
  },
  {
   "cell_type": "code",
   "execution_count": null,
   "id": "f912e877-5afd-4214-8115-dbe7c88a45b4",
   "metadata": {},
   "outputs": [],
   "source": [
    "from constants import PROCESSED_DATA_DIR\n",
    "from params import params\n",
    "from randomness import get_random_seed\n",
    "from ida import missing_values_percent, missing_values_chisquare_test"
   ]
  },
  {
   "cell_type": "code",
   "execution_count": null,
   "id": "9c119054-e395-47c0-b57b-d1ae3832e34b",
   "metadata": {},
   "outputs": [],
   "source": [
    "PARAMS = params[DATASET]\n",
    "SEED = get_random_seed(DATASET)"
   ]
  },
  {
   "cell_type": "markdown",
   "id": "1430b4e5-403f-46b8-81b2-b99c72af06c1",
   "metadata": {},
   "source": [
    "### Data loading\n",
    "\n",
    "We load the **training part** of dataset."
   ]
  },
  {
   "cell_type": "code",
   "execution_count": null,
   "id": "39ce25d0-63c4-4062-ae19-27d57c71c472",
   "metadata": {},
   "outputs": [],
   "source": [
    "data = pd.read_csv(os.path.join(PROCESSED_DATA_DIR, DATASET + \"_train.csv\"))\n",
    "y = data[\"class_\"]\n",
    "X = data.drop(\"class_\", axis=\"columns\")"
   ]
  },
  {
   "cell_type": "code",
   "execution_count": null,
   "id": "6c0531bf-5e19-40b9-a2d5-e0279a814cc2",
   "metadata": {},
   "outputs": [],
   "source": [
    "data.head(10)"
   ]
  },
  {
   "cell_type": "code",
   "execution_count": null,
   "id": "08be6f41-4d98-4cb1-aebb-eba7f3d796a2",
   "metadata": {},
   "outputs": [],
   "source": [
    "X.head(10)"
   ]
  },
  {
   "cell_type": "code",
   "execution_count": null,
   "id": "0b2e3b80-aed0-4808-9ee7-50f313087f81",
   "metadata": {},
   "outputs": [],
   "source": [
    "classes[:10]"
   ]
  },
  {
   "cell_type": "markdown",
   "id": "932d6add-13c2-4c86-bc21-921e8abf5102",
   "metadata": {},
   "source": [
    "### General information"
   ]
  },
  {
   "cell_type": "code",
   "execution_count": null,
   "id": "3052f5d6-2687-4769-b5fa-48cd80c97530",
   "metadata": {},
   "outputs": [],
   "source": [
    "n_rows, n_cols = X.shape\n",
    "n_classes = classes.unique().size\n",
    "\n",
    "print(f\"Number of samples in analyzed subset: {n_rows}.\")\n",
    "print(f\"Number of features: {n_cols}.\")\n",
    "print(f\"Number of classes: {n_classes}.\")"
   ]
  },
  {
   "cell_type": "code",
   "execution_count": null,
   "id": "532c5b12-9aca-4981-85f2-00702b7ae58a",
   "metadata": {},
   "outputs": [],
   "source": [
    "sns.countplot(data=data, x=\"class_\")"
   ]
  }
 ],
 "metadata": {
  "kernelspec": {
   "display_name": "Python 3 (ipykernel)",
   "language": "python",
   "name": "python3"
  },
  "language_info": {
   "codemirror_mode": {
    "name": "ipython",
    "version": 3
   },
   "file_extension": ".py",
   "mimetype": "text/x-python",
   "name": "python",
   "nbconvert_exporter": "python",
   "pygments_lexer": "ipython3",
   "version": "3.10.5"
  }
 },
 "nbformat": 4,
 "nbformat_minor": 5
}
