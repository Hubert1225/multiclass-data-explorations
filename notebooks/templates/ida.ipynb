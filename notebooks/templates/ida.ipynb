{
 "cells": [
  {
   "cell_type": "markdown",
   "id": "91fa6df2-48b8-493c-894d-fca47de9cab6",
   "metadata": {},
   "source": [
    "# Initial Data Analysis\n",
    "\n",
    "---\n",
    "\n",
    "This notebook presents the Initial Data Analysis of the following dataset:"
   ]
  },
  {
   "cell_type": "code",
   "execution_count": null,
   "id": "4508c46d-e17c-4425-bd8e-cd1c171137b2",
   "metadata": {},
   "outputs": [],
   "source": [
    "import os\n",
    "DATASET = os.environ.get(\"DATASET\")\n",
    "DATASET"
   ]
  },
  {
   "cell_type": "markdown",
   "id": "a17e50f8-7376-4d40-9a7b-187deb142855",
   "metadata": {},
   "source": [
    "### Imports"
   ]
  },
  {
   "cell_type": "code",
   "execution_count": null,
   "id": "c50f2952-9f2b-4510-93be-f5356f152e8c",
   "metadata": {},
   "outputs": [],
   "source": [
    "import numpy as np\n",
    "import scipy as sp\n",
    "import pandas as pd\n",
    "import matplotlib.pyplot as plt\n",
    "import seaborn as sns"
   ]
  }
 ],
 "metadata": {
  "kernelspec": {
   "display_name": "Python 3 (ipykernel)",
   "language": "python",
   "name": "python3"
  },
  "language_info": {
   "codemirror_mode": {
    "name": "ipython",
    "version": 3
   },
   "file_extension": ".py",
   "mimetype": "text/x-python",
   "name": "python",
   "nbconvert_exporter": "python",
   "pygments_lexer": "ipython3",
   "version": "3.10.6"
  }
 },
 "nbformat": 4,
 "nbformat_minor": 5
}
